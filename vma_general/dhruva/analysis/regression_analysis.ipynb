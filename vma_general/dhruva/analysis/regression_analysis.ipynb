{
 "cells": [
  {
   "cell_type": "code",
   "execution_count": 16,
   "metadata": {},
   "outputs": [],
   "source": [
    "from sklearn.linear_model import LinearRegression\n",
    "from sklearn.preprocessing import OrdinalEncoder\n",
    "import pandas as pd \n",
    "import numpy as np\n",
    "import seaborn as sns"
   ]
  },
  {
   "cell_type": "markdown",
   "metadata": {},
   "source": [
    "We want to: \n",
    "1) regress IMV on midpoint error, trial and midpoint sensory uncertainty on the previous trial as well as the interaction between midpoint error and uncertainty on the previous trial. \n",
    "2) regress change in IMV (between trials) on midpoint error and midpoint sensory uncertainty on the previous trial as well as the interaction between midpoint error and uncertainty on the previous trial. **NO TRIAL** \n"
   ]
  },
  {
   "cell_type": "code",
   "execution_count": 5,
   "metadata": {},
   "outputs": [
    {
     "data": {
      "text/html": [
       "<div>\n",
       "<style scoped>\n",
       "    .dataframe tbody tr th:only-of-type {\n",
       "        vertical-align: middle;\n",
       "    }\n",
       "\n",
       "    .dataframe tbody tr th {\n",
       "        vertical-align: top;\n",
       "    }\n",
       "\n",
       "    .dataframe thead th {\n",
       "        text-align: right;\n",
       "    }\n",
       "</style>\n",
       "<table border=\"1\" class=\"dataframe\">\n",
       "  <thead>\n",
       "    <tr style=\"text-align: right;\">\n",
       "      <th></th>\n",
       "      <th>trial</th>\n",
       "      <th>initial_theta</th>\n",
       "      <th>midpoint_theta</th>\n",
       "      <th>previous_uncertainty</th>\n",
       "    </tr>\n",
       "  </thead>\n",
       "  <tbody>\n",
       "    <tr>\n",
       "      <th>0</th>\n",
       "      <td>0</td>\n",
       "      <td>4.012769</td>\n",
       "      <td>2.990414</td>\n",
       "      <td>baseline_no_uncertainty</td>\n",
       "    </tr>\n",
       "    <tr>\n",
       "      <th>1</th>\n",
       "      <td>1</td>\n",
       "      <td>3.818803</td>\n",
       "      <td>2.163832</td>\n",
       "      <td>baseline_no_uncertainty</td>\n",
       "    </tr>\n",
       "    <tr>\n",
       "      <th>2</th>\n",
       "      <td>2</td>\n",
       "      <td>3.526050</td>\n",
       "      <td>1.961887</td>\n",
       "      <td>baseline_no_uncertainty</td>\n",
       "    </tr>\n",
       "    <tr>\n",
       "      <th>3</th>\n",
       "      <td>3</td>\n",
       "      <td>3.359577</td>\n",
       "      <td>1.994340</td>\n",
       "      <td>baseline_no_uncertainty</td>\n",
       "    </tr>\n",
       "    <tr>\n",
       "      <th>4</th>\n",
       "      <td>4</td>\n",
       "      <td>3.793889</td>\n",
       "      <td>2.467037</td>\n",
       "      <td>baseline_no_uncertainty</td>\n",
       "    </tr>\n",
       "    <tr>\n",
       "      <th>...</th>\n",
       "      <td>...</td>\n",
       "      <td>...</td>\n",
       "      <td>...</td>\n",
       "      <td>...</td>\n",
       "    </tr>\n",
       "    <tr>\n",
       "      <th>295</th>\n",
       "      <td>295</td>\n",
       "      <td>4.817503</td>\n",
       "      <td>2.988111</td>\n",
       "      <td>washout_unlimited_uncertainty</td>\n",
       "    </tr>\n",
       "    <tr>\n",
       "      <th>296</th>\n",
       "      <td>296</td>\n",
       "      <td>5.594581</td>\n",
       "      <td>4.154392</td>\n",
       "      <td>washout_unlimited_uncertainty</td>\n",
       "    </tr>\n",
       "    <tr>\n",
       "      <th>297</th>\n",
       "      <td>297</td>\n",
       "      <td>4.258937</td>\n",
       "      <td>4.030977</td>\n",
       "      <td>washout_unlimited_uncertainty</td>\n",
       "    </tr>\n",
       "    <tr>\n",
       "      <th>298</th>\n",
       "      <td>298</td>\n",
       "      <td>4.967267</td>\n",
       "      <td>4.509882</td>\n",
       "      <td>washout_unlimited_uncertainty</td>\n",
       "    </tr>\n",
       "    <tr>\n",
       "      <th>299</th>\n",
       "      <td>299</td>\n",
       "      <td>3.827282</td>\n",
       "      <td>3.366728</td>\n",
       "      <td>washout_unlimited_uncertainty</td>\n",
       "    </tr>\n",
       "  </tbody>\n",
       "</table>\n",
       "<p>300 rows × 4 columns</p>\n",
       "</div>"
      ],
      "text/plain": [
       "     trial  initial_theta  midpoint_theta           previous_uncertainty\n",
       "0        0       4.012769        2.990414        baseline_no_uncertainty\n",
       "1        1       3.818803        2.163832        baseline_no_uncertainty\n",
       "2        2       3.526050        1.961887        baseline_no_uncertainty\n",
       "3        3       3.359577        1.994340        baseline_no_uncertainty\n",
       "4        4       3.793889        2.467037        baseline_no_uncertainty\n",
       "..     ...            ...             ...                            ...\n",
       "295    295       4.817503        2.988111  washout_unlimited_uncertainty\n",
       "296    296       5.594581        4.154392  washout_unlimited_uncertainty\n",
       "297    297       4.258937        4.030977  washout_unlimited_uncertainty\n",
       "298    298       4.967267        4.509882  washout_unlimited_uncertainty\n",
       "299    299       3.827282        3.366728  washout_unlimited_uncertainty\n",
       "\n",
       "[300 rows x 4 columns]"
      ]
     },
     "execution_count": 5,
     "metadata": {},
     "output_type": "execute_result"
    }
   ],
   "source": [
    "data = pd.read_csv('../data/regression_data.csv')\n",
    "data"
   ]
  },
  {
   "cell_type": "code",
   "execution_count": 23,
   "metadata": {},
   "outputs": [],
   "source": [
    "# log transform trials \n",
    "data['log_trial'] = data.trial + 1 \n",
    "data['log_trial'] = np.log10(data.log_trial)"
   ]
  },
  {
   "cell_type": "code",
   "execution_count": 4,
   "metadata": {},
   "outputs": [],
   "source": [
    "reg = LinearRegression()"
   ]
  },
  {
   "cell_type": "code",
   "execution_count": null,
   "metadata": {},
   "outputs": [],
   "source": [
    "reg.fit(data[''])"
   ]
  }
 ],
 "metadata": {
  "kernelspec": {
   "display_name": "Python 3",
   "language": "python",
   "name": "python3"
  },
  "language_info": {
   "codemirror_mode": {
    "name": "ipython",
    "version": 3
   },
   "file_extension": ".py",
   "mimetype": "text/x-python",
   "name": "python",
   "nbconvert_exporter": "python",
   "pygments_lexer": "ipython3",
   "version": "3.9.6"
  },
  "orig_nbformat": 4
 },
 "nbformat": 4,
 "nbformat_minor": 2
}
